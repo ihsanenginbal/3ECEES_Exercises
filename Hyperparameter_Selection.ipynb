{
  "cells": [
    {
      "cell_type": "markdown",
      "metadata": {
        "id": "view-in-github",
        "colab_type": "text"
      },
      "source": [
        "<a href=\"https://colab.research.google.com/github/ihsanenginbal/3ECEES_Exercises/blob/main/Hyperparameter_Selection.ipynb\" target=\"_parent\"><img src=\"https://colab.research.google.com/assets/colab-badge.svg\" alt=\"Open In Colab\"/></a>"
      ]
    },
    {
      "cell_type": "markdown",
      "metadata": {
        "id": "PlOY6YTiki4E"
      },
      "source": [
        "Dr. İhsan Engin Bal\n",
        "04.08.2022\n",
        "Hyperparameter selection for RandomForestRegerssor model\n",
        "\n",
        "Hyperparameters are values that affect the model but are not related to the data itself. There is no straightforward way of defining those parameters. A try-error method is the needed. Here a grid-search is applied to define the best combination of hyperparameters among the pre-defined ones. However, please note that this is a simple code to find the best hyperparameters still from among the user-defined ranges of values. These user-defined ranges would depend on your own particular problem. It needs trying, observing and adapting."
      ]
    },
    {
      "cell_type": "markdown",
      "metadata": {
        "id": "sJQKXpMckZ5h"
      },
      "source": [
        "We first import the packages we need.\n",
        "We require pandas and numpy for data handling, and sklearn for the grid-search.  "
      ]
    },
    {
      "cell_type": "code",
      "execution_count": 1,
      "metadata": {
        "id": "9He-L26gS4Sq"
      },
      "outputs": [],
      "source": [
        "import pandas as pd\n",
        "import numpy as np\n",
        "from sklearn.ensemble import RandomForestRegressor"
      ]
    },
    {
      "cell_type": "markdown",
      "metadata": {
        "id": "ECh7iFsrkVcJ"
      },
      "source": [
        "Import the OS for handling files"
      ]
    },
    {
      "cell_type": "code",
      "execution_count": 2,
      "metadata": {
        "id": "c0Rvm89QS8Ki"
      },
      "outputs": [],
      "source": [
        "import os\n",
        "for dirname, _, filenames in os.walk('/kaggle/input'):\n",
        "    for filename in filenames:\n",
        "        print(os.path.join(dirname, filename))"
      ]
    },
    {
      "cell_type": "markdown",
      "metadata": {
        "id": "ScTGVHS_ltkK"
      },
      "source": [
        "This part below is needed to access the data files, you need to give permission to access the data files in your GoogleDrive."
      ]
    },
    {
      "cell_type": "code",
      "execution_count": 3,
      "metadata": {
        "colab": {
          "base_uri": "https://localhost:8080/"
        },
        "id": "HymZzRhETa1n",
        "outputId": "f0577a0f-74d8-44f1-f739-d236a95f0d13"
      },
      "outputs": [
        {
          "output_type": "stream",
          "name": "stdout",
          "text": [
            "Mounted at /content/gdrive\n"
          ]
        }
      ],
      "source": [
        "from google.colab import drive\n",
        "drive.mount(\"/content/gdrive\")"
      ]
    },
    {
      "cell_type": "markdown",
      "metadata": {
        "id": "G5cu1B0pl19i"
      },
      "source": [
        "Read the CSV file with the data (also can be found in the GitHub link). The target data is the frame displacements."
      ]
    },
    {
      "cell_type": "code",
      "execution_count": 5,
      "metadata": {
        "colab": {
          "base_uri": "https://localhost:8080/"
        },
        "id": "uI6YEVG1S_LA",
        "outputId": "74810fa4-499a-4dc0-c3e8-8b1cbbd80efb"
      },
      "outputs": [
        {
          "output_type": "stream",
          "name": "stdout",
          "text": [
            "X : (362850, 30)\n"
          ]
        }
      ],
      "source": [
        "data = pd.read_csv('/content/gdrive/MyDrive/Colab Notebooks/Test_Table_Long.csv')\n",
        "\n",
        "data.head()\n",
        "\n",
        "data.isnull().sum()\n",
        "\n",
        "#Get Target data \n",
        "y = data['ADE_frame_disp_m']\n",
        "\n",
        "#Load X Variables into a Pandas Dataframe with columns \n",
        "X = data.drop(['ADE_frame_disp_m'], axis = 1)\n",
        "\n",
        "print(f'X : {X.shape}')"
      ]
    },
    {
      "cell_type": "markdown",
      "metadata": {
        "id": "SLP6L6ZGmHj4"
      },
      "source": [
        "Here import train and test splitting function from sklearn.\n",
        "Spare 20% of the data for testing.\n",
        "Here also define ranges of values for the hyperparameters. "
      ]
    },
    {
      "cell_type": "code",
      "execution_count": 6,
      "metadata": {
        "colab": {
          "base_uri": "https://localhost:8080/"
        },
        "id": "s29iG3PyS_f0",
        "outputId": "fd99669c-2911-496f-b22b-80288ee1a39b"
      },
      "outputs": [
        {
          "output_type": "stream",
          "name": "stdout",
          "text": [
            "X_train : (290280, 30)\n",
            "y_train : (290280,)\n",
            "X_test : (72570, 30)\n",
            "y_test : (72570,)\n"
          ]
        }
      ],
      "source": [
        "from sklearn.model_selection import train_test_split\n",
        "X_train, X_test, y_train, y_test = train_test_split(X, y, test_size=0.20, random_state=101)\n",
        "\n",
        "print(f'X_train : {X_train.shape}')\n",
        "print(f'y_train : {y_train.shape}')\n",
        "print(f'X_test : {X_test.shape}')\n",
        "print(f'y_test : {y_test.shape}')\n",
        "\n",
        "# Number of trees in random forest\n",
        "n_estimators = [int(x) for x in np.linspace(start = 100, stop = 300, num = 3)]\n",
        "# Number of features to consider at every split\n",
        "max_features = ['auto', 'sqrt']\n",
        "# Maximum number of levels in tree\n",
        "max_depth = [20,30]\n",
        "# Minimum number of samples required to split a node\n",
        "min_samples_split = [5, 15]\n",
        "# Minimum number of samples required at each leaf node\n",
        "min_samples_leaf = [8, 12]\n",
        "# Method of selecting samples for training each tree\n",
        "bootstrap = [True, False]"
      ]
    },
    {
      "cell_type": "markdown",
      "metadata": {
        "id": "rEuMGSz_mYUn"
      },
      "source": [
        "Here create a grid for the grid search."
      ]
    },
    {
      "cell_type": "code",
      "execution_count": 7,
      "metadata": {
        "colab": {
          "base_uri": "https://localhost:8080/"
        },
        "id": "saa8KxcdTGj7",
        "outputId": "b7819aa3-99fc-4c9a-8547-93d1f94b271d"
      },
      "outputs": [
        {
          "output_type": "stream",
          "name": "stdout",
          "text": [
            "{'n_estimators': [100, 200, 300], 'max_features': ['auto', 'sqrt'], 'max_depth': [20, 30], 'min_samples_split': [5, 15], 'min_samples_leaf': [8, 12], 'bootstrap': [True, False]}\n"
          ]
        }
      ],
      "source": [
        "# Create the param grid\n",
        "param_grid = {'n_estimators': n_estimators,\n",
        "               'max_features': max_features,\n",
        "               'max_depth': max_depth,\n",
        "               'min_samples_split': min_samples_split,\n",
        "               'min_samples_leaf': min_samples_leaf,\n",
        "               'bootstrap': bootstrap}\n",
        "print(param_grid)"
      ]
    },
    {
      "cell_type": "markdown",
      "metadata": {
        "id": "WQoxolSDmgAY"
      },
      "source": [
        "Define the ML method for the grid-search success evaluation."
      ]
    },
    {
      "cell_type": "code",
      "execution_count": 8,
      "metadata": {
        "id": "n1uF_NmpTJBJ"
      },
      "outputs": [],
      "source": [
        "rf_Model = RandomForestRegressor()\n",
        "\n",
        "from sklearn.model_selection import GridSearchCV\n",
        "rf_Grid = GridSearchCV(estimator = rf_Model, param_grid = param_grid, cv = 3, verbose=2, n_jobs = 4)"
      ]
    },
    {
      "cell_type": "markdown",
      "metadata": {
        "id": "hlFvVIMsmj_s"
      },
      "source": [
        "Finally run the tests for finding the best parameter combo."
      ]
    },
    {
      "cell_type": "code",
      "execution_count": null,
      "metadata": {
        "colab": {
          "base_uri": "https://localhost:8080/"
        },
        "id": "KF4ts_HsTl19",
        "outputId": "f0b639ae-c143-4071-ca0d-6baea7b80406"
      },
      "outputs": [
        {
          "metadata": {
            "tags": null
          },
          "name": "stdout",
          "output_type": "stream",
          "text": [
            "Fitting 3 folds for each of 96 candidates, totalling 288 fits\n"
          ]
        }
      ],
      "source": [
        "rf_Grid.fit(X_train, y_train)\n",
        "\n",
        "\n",
        "\n",
        "rf_Grid.best_params_\n",
        "# used data\n",
        "# bootstrap = True\n",
        "# max_depth=20\n",
        "# max_features = 'auto'\n",
        "# min_samples_leaf = 8\n",
        "# min_samples_split = 10\n",
        "# n_estimators = 200\n"
      ]
    }
  ],
  "metadata": {
    "colab": {
      "collapsed_sections": [],
      "name": "Hyperparameter_Selection.ipynb",
      "provenance": [],
      "authorship_tag": "ABX9TyNIMJDs5imMLQdvKpOGXfZa",
      "include_colab_link": true
    },
    "kernelspec": {
      "display_name": "Python 3",
      "name": "python3"
    },
    "language_info": {
      "name": "python"
    }
  },
  "nbformat": 4,
  "nbformat_minor": 0
}