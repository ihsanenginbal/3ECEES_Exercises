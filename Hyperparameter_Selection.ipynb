{
  "nbformat": 4,
  "nbformat_minor": 0,
  "metadata": {
    "colab": {
      "name": "Hyperparameter_Selection.ipynb",
      "provenance": [],
      "collapsed_sections": [],
      "authorship_tag": "ABX9TyNIMJDs5imMLQdvKpOGXfZa",
      "include_colab_link": true
    },
    "kernelspec": {
      "name": "python3",
      "display_name": "Python 3"
    },
    "language_info": {
      "name": "python"
    }
  },
  "cells": [
    {
      "cell_type": "markdown",
      "metadata": {
        "id": "view-in-github",
        "colab_type": "text"
      },
      "source": [
        "<a href=\"https://colab.research.google.com/github/ihsanenginbal/3ECEES_Exercises/blob/main/Hyperparameter_Selection.ipynb\" target=\"_parent\"><img src=\"https://colab.research.google.com/assets/colab-badge.svg\" alt=\"Open In Colab\"/></a>"
      ]
    },
    {
      "cell_type": "markdown",
      "source": [
        "Dr. İhsan Engin Bal\n",
        "04.08.2022\n",
        "Hyperparameter selection for RandomForestRegerssor model\n",
        "\n",
        "Hyperparameters are values that affect the model but are not related to the data itself. There is no straightforward way of defining those parameters. A try-error method is the needed. Here a grid-search is applied to define the best combination of hyperparameters among the pre-defined ones. However, please note that this is a simple code to find the best hyperparameters still from among the user-defined ranges of values. These user-defined ranges would depend on your own particular problem. It needs trying, observing and adapting."
      ],
      "metadata": {
        "id": "PlOY6YTiki4E"
      }
    },
    {
      "cell_type": "markdown",
      "source": [
        "We first import the packages we need.\n",
        "We require pandas and numpy for data handling, and sklearn for the grid-search.  "
      ],
      "metadata": {
        "id": "sJQKXpMckZ5h"
      }
    },
    {
      "cell_type": "code",
      "execution_count": 2,
      "metadata": {
        "id": "9He-L26gS4Sq"
      },
      "outputs": [],
      "source": [
        "import pandas as pd\n",
        "import numpy as np\n",
        "from sklearn.ensemble import RandomForestRegressor"
      ]
    },
    {
      "cell_type": "markdown",
      "source": [
        "Import the OS for handling files"
      ],
      "metadata": {
        "id": "ECh7iFsrkVcJ"
      }
    },
    {
      "cell_type": "code",
      "source": [
        "import os\n",
        "for dirname, _, filenames in os.walk('/kaggle/input'):\n",
        "    for filename in filenames:\n",
        "        print(os.path.join(dirname, filename))"
      ],
      "metadata": {
        "id": "c0Rvm89QS8Ki"
      },
      "execution_count": 3,
      "outputs": []
    },
    {
      "cell_type": "markdown",
      "source": [
        "This part below is needed to access the data files, you need to give permission to access the data files in your GoogleDrive."
      ],
      "metadata": {
        "id": "ScTGVHS_ltkK"
      }
    },
    {
      "cell_type": "code",
      "source": [
        "from google.colab import drive\n",
        "drive.mount(\"/content/gdrive\")"
      ],
      "metadata": {
        "colab": {
          "base_uri": "https://localhost:8080/"
        },
        "id": "HymZzRhETa1n",
        "outputId": "dfc0303f-a2d2-488f-a561-2abf36aafa0c"
      },
      "execution_count": 4,
      "outputs": [
        {
          "output_type": "stream",
          "name": "stdout",
          "text": [
            "Mounted at /content/gdrive\n"
          ]
        }
      ]
    },
    {
      "cell_type": "markdown",
      "source": [
        "Read the CSV file with the data (also can be found in the GitHub link). The target data is the frame displacements."
      ],
      "metadata": {
        "id": "G5cu1B0pl19i"
      }
    },
    {
      "cell_type": "code",
      "source": [
        "data = pd.read_csv('/content/gdrive/MyDrive/Colab Notebooks/Test_Table_Long.csv')\n",
        "\n",
        "data.head()\n",
        "\n",
        "data.isnull().sum()\n",
        "\n",
        "#Get Target data \n",
        "y = data['ADE_frame_disp_m']\n",
        "\n",
        "#Load X Variables into a Pandas Dataframe with columns \n",
        "X = data.drop(['ADE_frame_disp_m'], axis = 1)\n",
        "\n",
        "print(f'X : {X.shape}')"
      ],
      "metadata": {
        "colab": {
          "base_uri": "https://localhost:8080/"
        },
        "id": "uI6YEVG1S_LA",
        "outputId": "ec532142-17ec-4503-895f-517cc7eaa318"
      },
      "execution_count": 5,
      "outputs": [
        {
          "output_type": "stream",
          "name": "stdout",
          "text": [
            "X : (362850, 30)\n"
          ]
        }
      ]
    },
    {
      "cell_type": "markdown",
      "source": [
        "Here import train and test splitting function from sklearn.\n",
        "Spare 20% of the data for testing.\n",
        "Here also define ranges of values for the hyperparameters. "
      ],
      "metadata": {
        "id": "SLP6L6ZGmHj4"
      }
    },
    {
      "cell_type": "code",
      "source": [
        "from sklearn.model_selection import train_test_split\n",
        "X_train, X_test, y_train, y_test = train_test_split(X, y, test_size=0.20, random_state=101)\n",
        "\n",
        "print(f'X_train : {X_train.shape}')\n",
        "print(f'y_train : {y_train.shape}')\n",
        "print(f'X_test : {X_test.shape}')\n",
        "print(f'y_test : {y_test.shape}')\n",
        "\n",
        "# Number of trees in random forest\n",
        "n_estimators = [int(x) for x in np.linspace(start = 100, stop = 300, num = 3)]\n",
        "# Number of features to consider at every split\n",
        "max_features = ['auto', 'sqrt']\n",
        "# Maximum number of levels in tree\n",
        "max_depth = [20,30]\n",
        "# Minimum number of samples required to split a node\n",
        "min_samples_split = [5, 15]\n",
        "# Minimum number of samples required at each leaf node\n",
        "min_samples_leaf = [8, 12]\n",
        "# Method of selecting samples for training each tree\n",
        "bootstrap = [True, False]"
      ],
      "metadata": {
        "colab": {
          "base_uri": "https://localhost:8080/"
        },
        "id": "s29iG3PyS_f0",
        "outputId": "4d830525-da7e-4553-98cd-674ed1f43be3"
      },
      "execution_count": 6,
      "outputs": [
        {
          "output_type": "stream",
          "name": "stdout",
          "text": [
            "X_train : (290280, 30)\n",
            "y_train : (290280,)\n",
            "X_test : (72570, 30)\n",
            "y_test : (72570,)\n"
          ]
        }
      ]
    },
    {
      "cell_type": "markdown",
      "source": [
        "Here create a grid for the grid search."
      ],
      "metadata": {
        "id": "rEuMGSz_mYUn"
      }
    },
    {
      "cell_type": "code",
      "source": [
        "# Create the param grid\n",
        "param_grid = {'n_estimators': n_estimators,\n",
        "               'max_features': max_features,\n",
        "               'max_depth': max_depth,\n",
        "               'min_samples_split': min_samples_split,\n",
        "               'min_samples_leaf': min_samples_leaf,\n",
        "               'bootstrap': bootstrap}\n",
        "print(param_grid)"
      ],
      "metadata": {
        "colab": {
          "base_uri": "https://localhost:8080/"
        },
        "id": "saa8KxcdTGj7",
        "outputId": "32eac870-59d8-4412-9f4f-11f2af3b2ce0"
      },
      "execution_count": 7,
      "outputs": [
        {
          "output_type": "stream",
          "name": "stdout",
          "text": [
            "{'n_estimators': [100, 200, 300], 'max_features': ['auto', 'sqrt'], 'max_depth': [20, 30], 'min_samples_split': [5, 15], 'min_samples_leaf': [8, 12], 'bootstrap': [True, False]}\n"
          ]
        }
      ]
    },
    {
      "cell_type": "markdown",
      "source": [
        "Define the ML method for the grid-search success evaluation."
      ],
      "metadata": {
        "id": "WQoxolSDmgAY"
      }
    },
    {
      "cell_type": "code",
      "source": [
        "rf_Model = RandomForestRegressor()\n",
        "\n",
        "from sklearn.model_selection import GridSearchCV\n",
        "rf_Grid = GridSearchCV(estimator = rf_Model, param_grid = param_grid, cv = 3, verbose=2, n_jobs = 4)"
      ],
      "metadata": {
        "id": "n1uF_NmpTJBJ"
      },
      "execution_count": 8,
      "outputs": []
    },
    {
      "cell_type": "markdown",
      "source": [
        "Finally run the tests for finding the best parameter combo."
      ],
      "metadata": {
        "id": "hlFvVIMsmj_s"
      }
    },
    {
      "cell_type": "code",
      "source": [
        "rf_Grid.fit(X_train, y_train)\n",
        "\n",
        "\n",
        "\n",
        "rf_Grid.best_params_\n",
        "# used data\n",
        "# bootstrap = True\n",
        "# max_depth=20\n",
        "# max_features = 'auto'\n",
        "# min_samples_leaf = 8\n",
        "# min_samples_split = 10\n",
        "# n_estimators = 200\n"
      ],
      "metadata": {
        "colab": {
          "base_uri": "https://localhost:8080/",
          "height": 240
        },
        "id": "KF4ts_HsTl19",
        "outputId": "3f27e1f0-98f2-491f-9d34-b43c13242feb"
      },
      "execution_count": 1,
      "outputs": [
        {
          "output_type": "error",
          "ename": "NameError",
          "evalue": "ignored",
          "traceback": [
            "\u001b[0;31m---------------------------------------------------------------------------\u001b[0m",
            "\u001b[0;31mNameError\u001b[0m                                 Traceback (most recent call last)",
            "\u001b[0;32m<ipython-input-1-e336384edabe>\u001b[0m in \u001b[0;36m<module>\u001b[0;34m()\u001b[0m\n\u001b[0;32m----> 1\u001b[0;31m \u001b[0mrf_Grid\u001b[0m\u001b[0;34m.\u001b[0m\u001b[0mfit\u001b[0m\u001b[0;34m(\u001b[0m\u001b[0mX_train\u001b[0m\u001b[0;34m,\u001b[0m \u001b[0my_train\u001b[0m\u001b[0;34m)\u001b[0m\u001b[0;34m\u001b[0m\u001b[0;34m\u001b[0m\u001b[0m\n\u001b[0m\u001b[1;32m      2\u001b[0m \u001b[0;34m\u001b[0m\u001b[0m\n\u001b[1;32m      3\u001b[0m \u001b[0;34m\u001b[0m\u001b[0m\n\u001b[1;32m      4\u001b[0m \u001b[0;34m\u001b[0m\u001b[0m\n\u001b[1;32m      5\u001b[0m \u001b[0mrf_Grid\u001b[0m\u001b[0;34m.\u001b[0m\u001b[0mbest_params_\u001b[0m\u001b[0;34m\u001b[0m\u001b[0;34m\u001b[0m\u001b[0m\n",
            "\u001b[0;31mNameError\u001b[0m: name 'rf_Grid' is not defined"
          ]
        }
      ]
    }
  ]
}